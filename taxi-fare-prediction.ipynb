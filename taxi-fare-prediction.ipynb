{
 "cells": [
  {
   "cell_type": "code",
   "execution_count": 1,
   "id": "6c89f375",
   "metadata": {},
   "outputs": [],
   "source": [
    "from pyspark.sql import SparkSession"
   ]
  },
  {
   "cell_type": "code",
   "execution_count": 2,
   "id": "14ef5549",
   "metadata": {},
   "outputs": [],
   "source": [
    "MAX_MEMORY=\"5g\"\n",
    "spark = SparkSession.builder.appName(\"taxi-fare-prediciton\")\\\n",
    "                .config(\"spark.executor.memory\", MAX_MEMORY)\\\n",
    "                .config(\"spark.driver.memory\", MAX_MEMORY)\\\n",
    "                .getOrCreate()"
   ]
  },
  {
   "cell_type": "code",
   "execution_count": 3,
   "id": "528e40d4",
   "metadata": {},
   "outputs": [],
   "source": [
    "trip_files = \"/home/jovyan/trips/*\""
   ]
  },
  {
   "cell_type": "code",
   "execution_count": 4,
   "id": "2e0760d9",
   "metadata": {},
   "outputs": [],
   "source": [
    "trips_df = spark.read.csv(f\"file:///{trip_files}\", inferSchema=True, header=True)"
   ]
  },
  {
   "cell_type": "code",
   "execution_count": 5,
   "id": "2e1392e4",
   "metadata": {},
   "outputs": [
    {
     "name": "stdout",
     "output_type": "stream",
     "text": [
      "root\n",
      " |-- _c0: string (nullable = true)\n",
      " |-- VendorID: string (nullable = true)\n",
      " |-- tpep_pickup_datetime: string (nullable = true)\n",
      " |-- tpep_dropoff_datetime: string (nullable = true)\n",
      " |-- passenger_count: string (nullable = true)\n",
      " |-- trip_distance: string (nullable = true)\n",
      " |-- RatecodeID: string (nullable = true)\n",
      " |-- store_and_fwd_flag: string (nullable = true)\n",
      " |-- PULocationID: string (nullable = true)\n",
      " |-- DOLocationID: string (nullable = true)\n",
      " |-- payment_type: string (nullable = true)\n",
      " |-- fare_amount: string (nullable = true)\n",
      " |-- extra: string (nullable = true)\n",
      " |-- mta_tax: string (nullable = true)\n",
      " |-- tip_amount: string (nullable = true)\n",
      " |-- tolls_amount: string (nullable = true)\n",
      " |-- improvement_surcharge: string (nullable = true)\n",
      " |-- total_amount: string (nullable = true)\n",
      " |-- congestion_surcharge: string (nullable = true)\n",
      " |-- airport_fee: string (nullable = true)\n",
      "\n"
     ]
    }
   ],
   "source": [
    "trips_df.printSchema()"
   ]
  },
  {
   "cell_type": "code",
   "execution_count": 6,
   "id": "005be675",
   "metadata": {},
   "outputs": [],
   "source": [
    "trips_df.createOrReplaceTempView(\"trips\")   # sql에서 쓸 수 있게 변환"
   ]
  },
  {
   "cell_type": "code",
   "execution_count": 18,
   "id": "ba12a38e",
   "metadata": {},
   "outputs": [],
   "source": [
    "query = \"\"\"\n",
    "SELECT \n",
    "    CAST(trip_distance AS double),\n",
    "    CAST(total_amount AS double)\n",
    "FROM\n",
    "    trips\n",
    "WHERE\n",
    "    total_amount < 5000\n",
    "    AND total_amount > 0\n",
    "    AND trip_distance > 0\n",
    "    AND trip_distance < 500\n",
    "    AND passenger_count < 4\n",
    "    AND TO_DATE(tpep_pickup_datetime) >= '2021-01-01'\n",
    "    AND TO_DATE(tpep_pickup_datetime) < '2021-04-01'\n",
    "\"\"\""
   ]
  },
  {
   "cell_type": "code",
   "execution_count": 19,
   "id": "479650c2",
   "metadata": {},
   "outputs": [],
   "source": [
    "data_df = spark.sql(query)\n",
    "data_df.createOrReplaceTempView(\"data\")"
   ]
  },
  {
   "cell_type": "code",
   "execution_count": 20,
   "id": "97e80528",
   "metadata": {},
   "outputs": [
    {
     "name": "stdout",
     "output_type": "stream",
     "text": [
      "+-------------+------------+\n",
      "|trip_distance|total_amount|\n",
      "+-------------+------------+\n",
      "|          2.1|        11.8|\n",
      "|         14.7|       51.95|\n",
      "|         10.6|       36.35|\n",
      "|         4.94|       24.36|\n",
      "|          1.6|       14.15|\n",
      "|          4.1|        17.3|\n",
      "|          5.7|        21.8|\n",
      "|          9.1|        28.8|\n",
      "|          2.7|       18.95|\n",
      "|         6.11|        24.3|\n",
      "|         1.21|       10.79|\n",
      "|          7.4|       33.92|\n",
      "|         1.01|        10.3|\n",
      "|         1.17|       12.36|\n",
      "|         1.66|        12.3|\n",
      "|         1.16|       11.84|\n",
      "|          2.2|        12.8|\n",
      "|          3.6|        30.8|\n",
      "|         19.1|       59.42|\n",
      "|          5.4|        23.8|\n",
      "+-------------+------------+\n",
      "only showing top 20 rows\n",
      "\n"
     ]
    }
   ],
   "source": [
    "data_df.show()"
   ]
  },
  {
   "cell_type": "code",
   "execution_count": 21,
   "id": "c54120dc",
   "metadata": {},
   "outputs": [
    {
     "name": "stdout",
     "output_type": "stream",
     "text": [
      "+-------+------------------+------------------+\n",
      "|summary|     trip_distance|      total_amount|\n",
      "+-------+------------------+------------------+\n",
      "|  count|          10296896|          10296896|\n",
      "|   mean|3.4849777583463717| 20.15858721223262|\n",
      "| stddev|    4.110858401658|13.683625256252133|\n",
      "|    min|               1.0|               1.0|\n",
      "|    max|             475.5|            4973.3|\n",
      "+-------+------------------+------------------+\n",
      "\n"
     ]
    }
   ],
   "source": [
    "data_df.describe().show()"
   ]
  },
  {
   "cell_type": "code",
   "execution_count": 22,
   "id": "431188ac-f82d-49ab-97fb-2bbe9241c18f",
   "metadata": {},
   "outputs": [
    {
     "data": {
      "text/plain": [
       "DataFrame[summary: string, trip_distance: string, total_amount: string]"
      ]
     },
     "execution_count": 22,
     "metadata": {},
     "output_type": "execute_result"
    }
   ],
   "source": [
    "data_df.describe()"
   ]
  },
  {
   "cell_type": "code",
   "execution_count": 23,
   "id": "35dcbacb",
   "metadata": {},
   "outputs": [],
   "source": [
    "train_df, test_df = data_df.randomSplit([0.8, 0.2], seed=1)"
   ]
  },
  {
   "cell_type": "code",
   "execution_count": 24,
   "id": "b9be6e2b",
   "metadata": {},
   "outputs": [
    {
     "name": "stdout",
     "output_type": "stream",
     "text": [
      "8236773\n",
      "2060123\n"
     ]
    }
   ],
   "source": [
    "print(train_df.count())\n",
    "print(test_df.count())"
   ]
  },
  {
   "cell_type": "code",
   "execution_count": 25,
   "id": "19f9e48c",
   "metadata": {},
   "outputs": [],
   "source": [
    "from pyspark.ml.feature import VectorAssembler"
   ]
  },
  {
   "cell_type": "code",
   "execution_count": 26,
   "id": "520a8620",
   "metadata": {},
   "outputs": [],
   "source": [
    "vassembler = VectorAssembler(inputCols=[\"trip_distance\"], outputCol=\"features\")"
   ]
  },
  {
   "cell_type": "code",
   "execution_count": 27,
   "id": "59e84ad1",
   "metadata": {},
   "outputs": [],
   "source": [
    "vtrain_df = vassembler.transform(train_df)"
   ]
  },
  {
   "cell_type": "code",
   "execution_count": 28,
   "id": "33a9654f",
   "metadata": {},
   "outputs": [
    {
     "name": "stdout",
     "output_type": "stream",
     "text": [
      "+-------------+------------+--------+\n",
      "|trip_distance|total_amount|features|\n",
      "+-------------+------------+--------+\n",
      "|          1.0|         3.3|   [1.0]|\n",
      "|          1.0|         3.3|   [1.0]|\n",
      "|          1.0|         3.3|   [1.0]|\n",
      "|          1.0|         3.3|   [1.0]|\n",
      "|          1.0|         3.8|   [1.0]|\n",
      "|          1.0|         3.8|   [1.0]|\n",
      "|          1.0|         3.8|   [1.0]|\n",
      "|          1.0|         3.8|   [1.0]|\n",
      "|          1.0|         5.3|   [1.0]|\n",
      "|          1.0|         5.3|   [1.0]|\n",
      "|          1.0|         5.8|   [1.0]|\n",
      "|          1.0|         5.8|   [1.0]|\n",
      "|          1.0|         5.8|   [1.0]|\n",
      "|          1.0|         5.8|   [1.0]|\n",
      "|          1.0|         5.8|   [1.0]|\n",
      "|          1.0|         5.8|   [1.0]|\n",
      "|          1.0|         5.8|   [1.0]|\n",
      "|          1.0|         5.8|   [1.0]|\n",
      "|          1.0|         5.8|   [1.0]|\n",
      "|          1.0|         5.8|   [1.0]|\n",
      "+-------------+------------+--------+\n",
      "only showing top 20 rows\n",
      "\n"
     ]
    }
   ],
   "source": [
    "vtrain_df.show()"
   ]
  },
  {
   "cell_type": "code",
   "execution_count": 29,
   "id": "bba4e6d5",
   "metadata": {},
   "outputs": [],
   "source": [
    "from pyspark.ml.regression import LinearRegression"
   ]
  },
  {
   "cell_type": "code",
   "execution_count": 30,
   "id": "87db9c13",
   "metadata": {},
   "outputs": [],
   "source": [
    "lr = LinearRegression(\n",
    "    maxIter=50,\n",
    "    labelCol=\"total_amount\",\n",
    "    featuresCol=\"features\"\n",
    ")"
   ]
  },
  {
   "cell_type": "code",
   "execution_count": 31,
   "id": "15504cb1",
   "metadata": {},
   "outputs": [],
   "source": [
    "model = lr.fit(vtrain_df)"
   ]
  },
  {
   "cell_type": "code",
   "execution_count": 32,
   "id": "bdbb608c",
   "metadata": {},
   "outputs": [],
   "source": [
    "vtest_df = vassembler.transform(test_df)"
   ]
  },
  {
   "cell_type": "code",
   "execution_count": 33,
   "id": "7a26b563",
   "metadata": {},
   "outputs": [],
   "source": [
    "prediction = model.transform(vtest_df)"
   ]
  },
  {
   "cell_type": "code",
   "execution_count": 34,
   "id": "74a81829",
   "metadata": {},
   "outputs": [
    {
     "name": "stdout",
     "output_type": "stream",
     "text": [
      "+-------------+------------+--------+------------------+\n",
      "|trip_distance|total_amount|features|        prediction|\n",
      "+-------------+------------+--------+------------------+\n",
      "|          1.0|         3.3|   [1.0]|12.903940581666353|\n",
      "|          1.0|         5.8|   [1.0]|12.903940581666353|\n",
      "|          1.0|         5.8|   [1.0]|12.903940581666353|\n",
      "|          1.0|         5.8|   [1.0]|12.903940581666353|\n",
      "|          1.0|         5.8|   [1.0]|12.903940581666353|\n",
      "|          1.0|         5.8|   [1.0]|12.903940581666353|\n",
      "|          1.0|         5.8|   [1.0]|12.903940581666353|\n",
      "|          1.0|         5.8|   [1.0]|12.903940581666353|\n",
      "|          1.0|         5.8|   [1.0]|12.903940581666353|\n",
      "|          1.0|         5.8|   [1.0]|12.903940581666353|\n",
      "|          1.0|         5.8|   [1.0]|12.903940581666353|\n",
      "|          1.0|         5.8|   [1.0]|12.903940581666353|\n",
      "|          1.0|         6.3|   [1.0]|12.903940581666353|\n",
      "|          1.0|         6.3|   [1.0]|12.903940581666353|\n",
      "|          1.0|         6.3|   [1.0]|12.903940581666353|\n",
      "|          1.0|         6.3|   [1.0]|12.903940581666353|\n",
      "|          1.0|         6.3|   [1.0]|12.903940581666353|\n",
      "|          1.0|         6.3|   [1.0]|12.903940581666353|\n",
      "|          1.0|         6.3|   [1.0]|12.903940581666353|\n",
      "|          1.0|         6.3|   [1.0]|12.903940581666353|\n",
      "+-------------+------------+--------+------------------+\n",
      "only showing top 20 rows\n",
      "\n"
     ]
    }
   ],
   "source": [
    "prediction.show()"
   ]
  },
  {
   "cell_type": "code",
   "execution_count": 37,
   "id": "14e0be60",
   "metadata": {},
   "outputs": [
    {
     "data": {
      "text/plain": [
       "6.625252872942492"
      ]
     },
     "execution_count": 37,
     "metadata": {},
     "output_type": "execute_result"
    }
   ],
   "source": [
    "model.summary.rootMeanSquaredError"
   ]
  },
  {
   "cell_type": "code",
   "execution_count": 38,
   "id": "0988cd09",
   "metadata": {},
   "outputs": [
    {
     "data": {
      "text/plain": [
       "0.7663287605327782"
      ]
     },
     "execution_count": 38,
     "metadata": {},
     "output_type": "execute_result"
    }
   ],
   "source": [
    "model.summary.r2   # total amount의 76%가 trip_distance로 설명이 가능하다는 말과 같음."
   ]
  },
  {
   "cell_type": "code",
   "execution_count": 43,
   "id": "ad5e86ab",
   "metadata": {},
   "outputs": [],
   "source": [
    "from pyspark.sql.types import DoubleType\n",
    "distance_list = [1.1, 5.5, 10.5, 30.0]\n",
    "distance_df = spark.createDataFrame(distance_list, DoubleType()).toDF(\"trip_distance\")"
   ]
  },
  {
   "cell_type": "code",
   "execution_count": 44,
   "id": "ac91a7a3",
   "metadata": {},
   "outputs": [
    {
     "name": "stdout",
     "output_type": "stream",
     "text": [
      "+-------------+\n",
      "|trip_distance|\n",
      "+-------------+\n",
      "|          1.1|\n",
      "|          5.5|\n",
      "|         10.5|\n",
      "|         30.0|\n",
      "+-------------+\n",
      "\n"
     ]
    }
   ],
   "source": [
    "distance_df.show()"
   ]
  },
  {
   "cell_type": "code",
   "execution_count": 45,
   "id": "1b6742a2",
   "metadata": {},
   "outputs": [],
   "source": [
    "vdistance_df = vassembler.transform(distance_df)"
   ]
  },
  {
   "cell_type": "code",
   "execution_count": 46,
   "id": "1464f383",
   "metadata": {},
   "outputs": [
    {
     "name": "stdout",
     "output_type": "stream",
     "text": [
      "+-------------+--------+\n",
      "|trip_distance|features|\n",
      "+-------------+--------+\n",
      "|          1.1|   [1.1]|\n",
      "|          5.5|   [5.5]|\n",
      "|         10.5|  [10.5]|\n",
      "|         30.0|  [30.0]|\n",
      "+-------------+--------+\n",
      "\n"
     ]
    }
   ],
   "source": [
    "vdistance_df.show()"
   ]
  },
  {
   "cell_type": "code",
   "execution_count": 47,
   "id": "24d256c3",
   "metadata": {},
   "outputs": [
    {
     "name": "stdout",
     "output_type": "stream",
     "text": [
      "+-------------+--------+------------------+\n",
      "|trip_distance|features|        prediction|\n",
      "+-------------+--------+------------------+\n",
      "|          1.1|   [1.1]|13.195867906301784|\n",
      "|          5.5|   [5.5]|26.040670190260713|\n",
      "|         10.5|  [10.5]| 40.63703642203222|\n",
      "|         30.0|  [30.0]|  97.5628647259411|\n",
      "+-------------+--------+------------------+\n",
      "\n"
     ]
    }
   ],
   "source": [
    "model.transform(vdistance_df).show()"
   ]
  },
  {
   "cell_type": "markdown",
   "id": "1cc5f92e-7e23-4ae3-94c3-81092fdaae08",
   "metadata": {},
   "source": [
    "1.1 - 13.19 => 1.7km당 17000원 정도"
   ]
  },
  {
   "cell_type": "code",
   "execution_count": null,
   "id": "2f5adffe-c53b-49c4-b076-633782de3b6e",
   "metadata": {},
   "outputs": [],
   "source": []
  }
 ],
 "metadata": {
  "kernelspec": {
   "display_name": "Python 3 (ipykernel)",
   "language": "python",
   "name": "python3"
  },
  "language_info": {
   "codemirror_mode": {
    "name": "ipython",
    "version": 3
   },
   "file_extension": ".py",
   "mimetype": "text/x-python",
   "name": "python",
   "nbconvert_exporter": "python",
   "pygments_lexer": "ipython3",
   "version": "3.11.5"
  }
 },
 "nbformat": 4,
 "nbformat_minor": 5
}
