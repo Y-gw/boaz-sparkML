{
 "cells": [
  {
   "cell_type": "code",
   "execution_count": 1,
   "id": "a6f15ffe",
   "metadata": {},
   "outputs": [],
   "source": [
    "from pyspark.sql import SparkSession"
   ]
  },
  {
   "cell_type": "code",
   "execution_count": 2,
   "id": "8f8754a7",
   "metadata": {},
   "outputs": [],
   "source": [
    "MAX_MEMORY = \"5g\"\n",
    "spark = SparkSession.builder.appName(\"movie-recommendation\")\\\n",
    "    .config(\"spark.executor.memory\", MAX_MEMORY)\\\n",
    "    .config(\"spark.driver.memory\", MAX_MEMORY)\\\n",
    "    .getOrCreate()"
   ]
  },
  {
   "cell_type": "code",
   "execution_count": 4,
   "id": "e5891199",
   "metadata": {},
   "outputs": [],
   "source": [
    "ratings_file = \"/home/jovyan/ml-25m/ratings.csv\"\n",
    "ratings_df = spark.read.csv(f\"file:///{ratings_file}\", inferSchema=True, header=True)"
   ]
  },
  {
   "cell_type": "code",
   "execution_count": 5,
   "id": "49bb909b",
   "metadata": {},
   "outputs": [
    {
     "name": "stdout",
     "output_type": "stream",
     "text": [
      "+------+-------+------+----------+\n",
      "|userId|movieId|rating| timestamp|\n",
      "+------+-------+------+----------+\n",
      "|     1|    296|   5.0|1147880044|\n",
      "|     1|    306|   3.5|1147868817|\n",
      "|     1|    307|   5.0|1147868828|\n",
      "|     1|    665|   5.0|1147878820|\n",
      "|     1|    899|   3.5|1147868510|\n",
      "|     1|   1088|   4.0|1147868495|\n",
      "|     1|   1175|   3.5|1147868826|\n",
      "|     1|   1217|   3.5|1147878326|\n",
      "|     1|   1237|   5.0|1147868839|\n",
      "|     1|   1250|   4.0|1147868414|\n",
      "|     1|   1260|   3.5|1147877857|\n",
      "|     1|   1653|   4.0|1147868097|\n",
      "|     1|   2011|   2.5|1147868079|\n",
      "|     1|   2012|   2.5|1147868068|\n",
      "|     1|   2068|   2.5|1147869044|\n",
      "|     1|   2161|   3.5|1147868609|\n",
      "|     1|   2351|   4.5|1147877957|\n",
      "|     1|   2573|   4.0|1147878923|\n",
      "|     1|   2632|   5.0|1147878248|\n",
      "|     1|   2692|   5.0|1147869100|\n",
      "+------+-------+------+----------+\n",
      "only showing top 20 rows\n",
      "\n"
     ]
    }
   ],
   "source": [
    "ratings_df.show()"
   ]
  },
  {
   "cell_type": "code",
   "execution_count": 6,
   "id": "d905aec3",
   "metadata": {},
   "outputs": [],
   "source": [
    "ratings_df = ratings_df.select([\"userId\", \"movieId\", \"rating\"])"
   ]
  },
  {
   "cell_type": "code",
   "execution_count": 7,
   "id": "13568d5a",
   "metadata": {},
   "outputs": [
    {
     "name": "stdout",
     "output_type": "stream",
     "text": [
      "root\n",
      " |-- userId: integer (nullable = true)\n",
      " |-- movieId: integer (nullable = true)\n",
      " |-- rating: double (nullable = true)\n",
      "\n"
     ]
    }
   ],
   "source": [
    "ratings_df.printSchema()"
   ]
  },
  {
   "cell_type": "code",
   "execution_count": 8,
   "id": "9c426807",
   "metadata": {},
   "outputs": [
    {
     "name": "stdout",
     "output_type": "stream",
     "text": [
      "+-------+------------------+\n",
      "|summary|            rating|\n",
      "+-------+------------------+\n",
      "|  count|          25000095|\n",
      "|   mean| 3.533854451353085|\n",
      "| stddev|1.0607439611423535|\n",
      "|    min|               0.5|\n",
      "|    max|               5.0|\n",
      "+-------+------------------+\n",
      "\n"
     ]
    }
   ],
   "source": [
    "ratings_df.select(\"rating\").describe().show()"
   ]
  },
  {
   "cell_type": "code",
   "execution_count": 9,
   "id": "e0eb4a8c",
   "metadata": {},
   "outputs": [],
   "source": [
    "train_df, test_df = ratings_df.randomSplit([0.8, 0.2])"
   ]
  },
  {
   "cell_type": "code",
   "execution_count": 10,
   "id": "67ed0cd9",
   "metadata": {},
   "outputs": [],
   "source": [
    "from pyspark.ml.recommendation import ALS"
   ]
  },
  {
   "cell_type": "code",
   "execution_count": 11,
   "id": "991d9b51",
   "metadata": {},
   "outputs": [],
   "source": [
    "als = ALS(\n",
    "    maxIter=5,\n",
    "    regParam=0.1,\n",
    "    userCol=\"userId\",\n",
    "    itemCol=\"movieId\",\n",
    "    ratingCol=\"rating\",\n",
    "    coldStartStrategy=\"drop\"   # 학습하지 못한 데이터를 만났을 때 어떻게 대처해야하는가\n",
    ")"
   ]
  },
  {
   "cell_type": "code",
   "execution_count": 12,
   "id": "fb149194",
   "metadata": {},
   "outputs": [],
   "source": [
    "model = als.fit(train_df)"
   ]
  },
  {
   "cell_type": "code",
   "execution_count": 13,
   "id": "6512ffa6",
   "metadata": {},
   "outputs": [],
   "source": [
    "predictions = model.transform(test_df)   # 학습 모델에 대한 test"
   ]
  },
  {
   "cell_type": "code",
   "execution_count": 14,
   "id": "a0818a45",
   "metadata": {},
   "outputs": [
    {
     "name": "stdout",
     "output_type": "stream",
     "text": [
      "+------+-------+------+----------+\n",
      "|userId|movieId|rating|prediction|\n",
      "+------+-------+------+----------+\n",
      "|    12|    471|   4.0|  3.600957|\n",
      "|    76|   1959|   5.0|  3.605424|\n",
      "|    85|   1088|   2.0|  3.745204|\n",
      "|    91|   8638|   3.0| 3.6412697|\n",
      "|   132|   1238|   5.0|  3.384017|\n",
      "|   233|   1580|   5.0| 3.7534525|\n",
      "|   243|   1580|   3.0|  2.705996|\n",
      "|   296|   1580|   3.0|  2.717266|\n",
      "|   321|   3175|   3.0| 3.2876143|\n",
      "|   321|   6620|   3.5|   3.72178|\n",
      "|   346|    471|   5.0|  3.736539|\n",
      "|   368|  54190|   4.0|  3.542121|\n",
      "|   409|   8638|   5.0|  4.075141|\n",
      "|   416|   1580|   3.0| 3.1203487|\n",
      "|   416|   1645|   4.0| 3.2283409|\n",
      "|   472|   3918|   3.0| 2.4157932|\n",
      "|   497|   2366|   4.0| 3.8563902|\n",
      "|   501|   1580|   5.0| 3.9781423|\n",
      "|   513|  44022|   5.0| 4.3278885|\n",
      "|   548|   5803|   2.5| 2.7255204|\n",
      "+------+-------+------+----------+\n",
      "only showing top 20 rows\n",
      "\n"
     ]
    }
   ],
   "source": [
    "predictions.show()"
   ]
  },
  {
   "cell_type": "code",
   "execution_count": 15,
   "id": "aff62bb7",
   "metadata": {},
   "outputs": [
    {
     "name": "stdout",
     "output_type": "stream",
     "text": [
      "+-------+------------------+------------------+\n",
      "|summary|            rating|        prediction|\n",
      "+-------+------------------+------------------+\n",
      "|  count|           4996925|           4996925|\n",
      "|   mean|3.5341806210819655|3.4304302104571276|\n",
      "| stddev|1.0608390722194045|0.6447696311975811|\n",
      "|    min|               0.5|        -0.8891341|\n",
      "|    max|               5.0|          6.814935|\n",
      "+-------+------------------+------------------+\n",
      "\n"
     ]
    }
   ],
   "source": [
    "predictions.select('rating', 'prediction').describe().show()"
   ]
  },
  {
   "cell_type": "code",
   "execution_count": 16,
   "id": "595399d0",
   "metadata": {},
   "outputs": [],
   "source": [
    "from pyspark.ml.evaluation import RegressionEvaluator\n",
    "\n",
    "evaluator = RegressionEvaluator(metricName=\"rmse\", labelCol='rating', predictionCol='prediction')"
   ]
  },
  {
   "cell_type": "code",
   "execution_count": 17,
   "id": "0dc8c946",
   "metadata": {},
   "outputs": [],
   "source": [
    "rmse = evaluator.evaluate(predictions)"
   ]
  },
  {
   "cell_type": "code",
   "execution_count": 18,
   "id": "ec5f0386",
   "metadata": {},
   "outputs": [
    {
     "name": "stdout",
     "output_type": "stream",
     "text": [
      "0.8083234516279967\n"
     ]
    }
   ],
   "source": [
    "print(rmse)"
   ]
  },
  {
   "cell_type": "code",
   "execution_count": 19,
   "id": "7fe2130a",
   "metadata": {},
   "outputs": [
    {
     "name": "stdout",
     "output_type": "stream",
     "text": [
      "+------+--------------------+\n",
      "|userId|     recommendations|\n",
      "+------+--------------------+\n",
      "|    12|[{194434, 5.39732...|\n",
      "|    22|[{199187, 7.49332...|\n",
      "|    26|[{203882, 5.33347...|\n",
      "|    27|[{203882, 6.17983...|\n",
      "|    28|[{194434, 7.68741...|\n",
      "|    31|[{203882, 3.99617...|\n",
      "|    34|[{77344, 6.42055}...|\n",
      "|    44|[{194434, 6.53651...|\n",
      "|    47|[{203882, 5.61025...|\n",
      "|    53|[{192089, 6.41560...|\n",
      "|    65|[{126737, 5.70968...|\n",
      "|    76|[{194434, 6.02048...|\n",
      "|    78|[{77344, 6.704458...|\n",
      "|    81|[{203882, 4.43484...|\n",
      "|    85|[{203882, 6.10054...|\n",
      "|    91|[{203882, 5.38347...|\n",
      "|    93|[{120821, 6.19903...|\n",
      "|   101|[{203882, 5.30982...|\n",
      "|   103|[{194434, 6.31353...|\n",
      "|   108|[{194434, 5.08309...|\n",
      "+------+--------------------+\n",
      "only showing top 20 rows\n",
      "\n"
     ]
    }
   ],
   "source": [
    "model.recommendForAllUsers(3).show()   # 유저 별 top3개의 아이템 추천"
   ]
  },
  {
   "cell_type": "code",
   "execution_count": 20,
   "id": "c631d5c6",
   "metadata": {},
   "outputs": [
    {
     "name": "stdout",
     "output_type": "stream",
     "text": [
      "+-------+--------------------+\n",
      "|movieId|     recommendations|\n",
      "+-------+--------------------+\n",
      "|     12|[{87426, 5.216188...|\n",
      "|     22|[{87426, 5.230874...|\n",
      "|     26|[{105801, 5.03825...|\n",
      "|     27|[{87426, 5.576849...|\n",
      "|     28|[{105801, 5.46533...|\n",
      "|     31|[{87426, 5.328863...|\n",
      "|     34|[{32202, 5.170934...|\n",
      "|     44|[{87426, 5.272593...|\n",
      "|     47|[{156318, 5.57046...|\n",
      "|     53|[{103920, 5.32841...|\n",
      "|     65|[{87426, 5.049478...|\n",
      "|     76|[{149507, 5.05941...|\n",
      "|     78|[{142811, 4.73541...|\n",
      "|     81|[{142811, 4.89259...|\n",
      "|     85|[{142811, 4.98602...|\n",
      "|     93|[{87426, 5.017465...|\n",
      "|    101|[{142811, 5.08284...|\n",
      "|    103|[{96471, 5.084518...|\n",
      "|    108|[{142811, 5.30106...|\n",
      "|    111|[{84907, 5.439813...|\n",
      "+-------+--------------------+\n",
      "only showing top 20 rows\n",
      "\n"
     ]
    }
   ],
   "source": [
    "model.recommendForAllItems(3).show()   # 아이템 별 top3명의 유저 추천"
   ]
  },
  {
   "cell_type": "markdown",
   "id": "2997925b-099c-40f2-97df-c451bb661295",
   "metadata": {},
   "source": [
    "But, 실제 서비스에서는 보통 특정 유저를 위한 추천을 불러오는 api가 쓰임"
   ]
  },
  {
   "cell_type": "code",
   "execution_count": 21,
   "id": "f972dfc7",
   "metadata": {},
   "outputs": [
    {
     "name": "stdout",
     "output_type": "stream",
     "text": [
      "+------+\n",
      "|userId|\n",
      "+------+\n",
      "|    65|\n",
      "|    78|\n",
      "|    81|\n",
      "+------+\n",
      "\n"
     ]
    }
   ],
   "source": [
    "from pyspark.sql.types import IntegerType\n",
    "\n",
    "user_list = [65, 78, 81]\n",
    "users_df = spark.createDataFrame(user_list, IntegerType()).toDF('userId')\n",
    "\n",
    "users_df.show()"
   ]
  },
  {
   "cell_type": "code",
   "execution_count": 22,
   "id": "e0e91f96",
   "metadata": {},
   "outputs": [],
   "source": [
    "user_recs = model.recommendForUserSubset(users_df, 5)"
   ]
  },
  {
   "cell_type": "code",
   "execution_count": 23,
   "id": "70360cbf",
   "metadata": {},
   "outputs": [],
   "source": [
    "movies_list = user_recs.collect()[0].recommendations"
   ]
  },
  {
   "cell_type": "code",
   "execution_count": 24,
   "id": "548632fc",
   "metadata": {},
   "outputs": [
    {
     "name": "stdout",
     "output_type": "stream",
     "text": [
      "+-------+-----------------+\n",
      "|movieId|           rating|\n",
      "+-------+-----------------+\n",
      "| 126737|5.709682464599609|\n",
      "| 205277|5.689651012420654|\n",
      "| 188733|5.618760108947754|\n",
      "| 152986|5.603871822357178|\n",
      "| 194434|5.516491413116455|\n",
      "+-------+-----------------+\n",
      "\n"
     ]
    }
   ],
   "source": [
    "recs_df = spark.createDataFrame(movies_list)\n",
    "recs_df.show()"
   ]
  },
  {
   "cell_type": "code",
   "execution_count": 25,
   "id": "dfbe7b20",
   "metadata": {},
   "outputs": [],
   "source": [
    "movies_file = \"/home/jovyan/ml-25m/movies.csv\"\n",
    "movies_df = spark.read.csv(f\"file:///{movies_file}\", inferSchema=True, header=True)"
   ]
  },
  {
   "cell_type": "code",
   "execution_count": 26,
   "id": "b80a6765",
   "metadata": {},
   "outputs": [
    {
     "name": "stdout",
     "output_type": "stream",
     "text": [
      "+-------+--------------------+--------------------+\n",
      "|movieId|               title|              genres|\n",
      "+-------+--------------------+--------------------+\n",
      "|      1|    Toy Story (1995)|Adventure|Animati...|\n",
      "|      2|      Jumanji (1995)|Adventure|Childre...|\n",
      "|      3|Grumpier Old Men ...|      Comedy|Romance|\n",
      "|      4|Waiting to Exhale...|Comedy|Drama|Romance|\n",
      "|      5|Father of the Bri...|              Comedy|\n",
      "|      6|         Heat (1995)|Action|Crime|Thri...|\n",
      "|      7|      Sabrina (1995)|      Comedy|Romance|\n",
      "|      8| Tom and Huck (1995)|  Adventure|Children|\n",
      "|      9| Sudden Death (1995)|              Action|\n",
      "|     10|    GoldenEye (1995)|Action|Adventure|...|\n",
      "|     11|American Presiden...|Comedy|Drama|Romance|\n",
      "|     12|Dracula: Dead and...|       Comedy|Horror|\n",
      "|     13|        Balto (1995)|Adventure|Animati...|\n",
      "|     14|        Nixon (1995)|               Drama|\n",
      "|     15|Cutthroat Island ...|Action|Adventure|...|\n",
      "|     16|       Casino (1995)|         Crime|Drama|\n",
      "|     17|Sense and Sensibi...|       Drama|Romance|\n",
      "|     18|   Four Rooms (1995)|              Comedy|\n",
      "|     19|Ace Ventura: When...|              Comedy|\n",
      "|     20|  Money Train (1995)|Action|Comedy|Cri...|\n",
      "+-------+--------------------+--------------------+\n",
      "only showing top 20 rows\n",
      "\n"
     ]
    }
   ],
   "source": [
    "movies_df.show()"
   ]
  },
  {
   "cell_type": "code",
   "execution_count": 27,
   "id": "48f54a35",
   "metadata": {},
   "outputs": [],
   "source": [
    "recs_df.createOrReplaceTempView(\"recommendations\")\n",
    "movies_df.createOrReplaceTempView(\"movies\")"
   ]
  },
  {
   "cell_type": "code",
   "execution_count": 28,
   "id": "572d3752",
   "metadata": {},
   "outputs": [
    {
     "name": "stdout",
     "output_type": "stream",
     "text": [
      "+-------+--------------------+--------------------+-------+-----------------+\n",
      "|movieId|               title|              genres|movieId|           rating|\n",
      "+-------+--------------------+--------------------+-------+-----------------+\n",
      "| 126737|Dark Dungeons (2014)|       Drama|Fantasy| 126737|5.709682464599609|\n",
      "| 205277|   Inside Out (1991)|Comedy|Drama|Romance| 205277|5.689651012420654|\n",
      "| 188733|Five Cartridges (...|           Drama|War| 188733|5.618760108947754|\n",
      "| 152986|Bose: The Forgott...|        Action|Drama| 152986|5.603871822357178|\n",
      "| 194434|   Adrenaline (1990)|  (no genres listed)| 194434|5.516491413116455|\n",
      "+-------+--------------------+--------------------+-------+-----------------+\n",
      "\n"
     ]
    }
   ],
   "source": [
    "query = \"\"\"\n",
    "SELECT *\n",
    "FROM\n",
    "    movies JOIN recommendations\n",
    "    ON movies.movieId = recommendations.movieId\n",
    "ORDER BY\n",
    "    rating desc\n",
    "\"\"\"\n",
    "recommended_movies = spark.sql(query)\n",
    "recommended_movies.show()"
   ]
  },
  {
   "cell_type": "code",
   "execution_count": 29,
   "id": "8597a8c7",
   "metadata": {},
   "outputs": [],
   "source": [
    "def get_recommendations(user_id, num_recs):\n",
    "    users_df = spark.createDataFrame([user_id], IntegerType()).toDF('userId')\n",
    "    user_recs_df = model.recommendForUserSubset(users_df, num_recs)\n",
    "    \n",
    "    recs_list = user_recs_df.collect()[0].recommendations\n",
    "    recs_df = spark.createDataFrame(recs_list)\n",
    "    recommended_movies = spark.sql(query)\n",
    "    return recommended_movies"
   ]
  },
  {
   "cell_type": "code",
   "execution_count": 30,
   "id": "ae62aacf",
   "metadata": {},
   "outputs": [],
   "source": [
    "recs = get_recommendations(456, 10)"
   ]
  },
  {
   "cell_type": "code",
   "execution_count": 31,
   "id": "cf8140ed",
   "metadata": {},
   "outputs": [
    {
     "data": {
      "text/html": [
       "<div>\n",
       "<style scoped>\n",
       "    .dataframe tbody tr th:only-of-type {\n",
       "        vertical-align: middle;\n",
       "    }\n",
       "\n",
       "    .dataframe tbody tr th {\n",
       "        vertical-align: top;\n",
       "    }\n",
       "\n",
       "    .dataframe thead th {\n",
       "        text-align: right;\n",
       "    }\n",
       "</style>\n",
       "<table border=\"1\" class=\"dataframe\">\n",
       "  <thead>\n",
       "    <tr style=\"text-align: right;\">\n",
       "      <th></th>\n",
       "      <th>movieId</th>\n",
       "      <th>title</th>\n",
       "      <th>genres</th>\n",
       "      <th>movieId</th>\n",
       "      <th>rating</th>\n",
       "    </tr>\n",
       "  </thead>\n",
       "  <tbody>\n",
       "    <tr>\n",
       "      <th>0</th>\n",
       "      <td>126737</td>\n",
       "      <td>Dark Dungeons (2014)</td>\n",
       "      <td>Drama|Fantasy</td>\n",
       "      <td>126737</td>\n",
       "      <td>5.709682</td>\n",
       "    </tr>\n",
       "    <tr>\n",
       "      <th>1</th>\n",
       "      <td>205277</td>\n",
       "      <td>Inside Out (1991)</td>\n",
       "      <td>Comedy|Drama|Romance</td>\n",
       "      <td>205277</td>\n",
       "      <td>5.689651</td>\n",
       "    </tr>\n",
       "    <tr>\n",
       "      <th>2</th>\n",
       "      <td>188733</td>\n",
       "      <td>Five Cartridges (1960)</td>\n",
       "      <td>Drama|War</td>\n",
       "      <td>188733</td>\n",
       "      <td>5.618760</td>\n",
       "    </tr>\n",
       "    <tr>\n",
       "      <th>3</th>\n",
       "      <td>152986</td>\n",
       "      <td>Bose: The Forgotten Hero (2005)</td>\n",
       "      <td>Action|Drama</td>\n",
       "      <td>152986</td>\n",
       "      <td>5.603872</td>\n",
       "    </tr>\n",
       "    <tr>\n",
       "      <th>4</th>\n",
       "      <td>194434</td>\n",
       "      <td>Adrenaline (1990)</td>\n",
       "      <td>(no genres listed)</td>\n",
       "      <td>194434</td>\n",
       "      <td>5.516491</td>\n",
       "    </tr>\n",
       "  </tbody>\n",
       "</table>\n",
       "</div>"
      ],
      "text/plain": [
       "   movieId                            title                genres  movieId  \\\n",
       "0   126737             Dark Dungeons (2014)         Drama|Fantasy   126737   \n",
       "1   205277                Inside Out (1991)  Comedy|Drama|Romance   205277   \n",
       "2   188733           Five Cartridges (1960)             Drama|War   188733   \n",
       "3   152986  Bose: The Forgotten Hero (2005)          Action|Drama   152986   \n",
       "4   194434                Adrenaline (1990)    (no genres listed)   194434   \n",
       "\n",
       "     rating  \n",
       "0  5.709682  \n",
       "1  5.689651  \n",
       "2  5.618760  \n",
       "3  5.603872  \n",
       "4  5.516491  "
      ]
     },
     "execution_count": 31,
     "metadata": {},
     "output_type": "execute_result"
    }
   ],
   "source": [
    "recs.toPandas()"
   ]
  },
  {
   "cell_type": "code",
   "execution_count": 32,
   "id": "c6d6c990",
   "metadata": {},
   "outputs": [],
   "source": [
    "spark.stop()"
   ]
  },
  {
   "cell_type": "code",
   "execution_count": null,
   "id": "ddcb186a",
   "metadata": {},
   "outputs": [],
   "source": []
  }
 ],
 "metadata": {
  "kernelspec": {
   "display_name": "Python 3 (ipykernel)",
   "language": "python",
   "name": "python3"
  },
  "language_info": {
   "codemirror_mode": {
    "name": "ipython",
    "version": 3
   },
   "file_extension": ".py",
   "mimetype": "text/x-python",
   "name": "python",
   "nbconvert_exporter": "python",
   "pygments_lexer": "ipython3",
   "version": "3.11.5"
  }
 },
 "nbformat": 4,
 "nbformat_minor": 5
}
